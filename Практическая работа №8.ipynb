{
  "metadata": {
    "language_info": {
      "codemirror_mode": {
        "name": "python",
        "version": 3
      },
      "file_extension": ".py",
      "mimetype": "text/x-python",
      "name": "python",
      "nbconvert_exporter": "python",
      "pygments_lexer": "ipython3",
      "version": "3.8"
    },
    "kernelspec": {
      "name": "python",
      "display_name": "Python (Pyodide)",
      "language": "python"
    }
  },
  "nbformat_minor": 4,
  "nbformat": 4,
  "cells": [
    {
      "cell_type": "raw",
      "source": "РЕШЕНИЕ ФИНАНСОВЫХ ЗАДАЧ С ПОМОЩЬЮ ОБРАБОТКИ ИСКЛЮЧЕНИЙ\n\nОбработка исключений - это мощный инструмент для работы с финансовыми данными в Python. Обработка исключений позволяет обрабатывать ошибки и неожиданные ситуации в программе, что делает ее более надежной и устойчивой. Ниже приведены несколько примеров решения финансовых задач с использованием обработки исключений в Python.",
      "metadata": {}
    },
    {
      "cell_type": "raw",
      "source": "1.Рассчитать доходность акции на основе начальной и конечной цены с обработкой исключения на случай деления на ноль:",
      "metadata": {}
    },
    {
      "cell_type": "code",
      "source": "def calculate_return(start_price, end_price):\n    try:\n        return (end_price - start_price) / start_price\n    except ZeroDivisionError:\n        print(\"Error: start price cannot be zero\")\n        return None\n\nstart_price = 100\nend_price = 120\nstock_return = calculate_return(start_price, end_price)\nif stock_return is not None:\n    print(f\"Stock return: {stock_return:.2%}\")",
      "metadata": {
        "trusted": true
      },
      "execution_count": 1,
      "outputs": [
        {
          "name": "stdout",
          "text": "Stock return: 20.00%\n",
          "output_type": "stream"
        }
      ]
    },
    {
      "cell_type": "raw",
      "source": "2.Рассчитать среднее значение доходности портфеля с использованием списка доходностей и обработки исключения на случай пустого списка:",
      "metadata": {}
    },
    {
      "cell_type": "code",
      "source": "def calculate_portfolio_return(returns):\n    try:\n        return sum(returns) / len(returns)\n    except ZeroDivisionError:\n        print(\"Error: empty list of returns\")\n        return None\n\nportfolio_returns = [0.05, -0.02, 0.03, 0.01]\naverage_return = calculate_portfolio_return(portfolio_returns)\nif average_return is not None:\n    print(f\"Average portfolio return: {average_return:.2%}\")",
      "metadata": {
        "trusted": true
      },
      "execution_count": 2,
      "outputs": [
        {
          "name": "stdout",
          "text": "Average portfolio return: 1.75%\n",
          "output_type": "stream"
        }
      ]
    },
    {
      "cell_type": "raw",
      "source": "3.Рассчитать стандартное отклонение доходности портфеля с использованием списка доходностей и обработки исключения на случай пустого списка:",
      "metadata": {}
    },
    {
      "cell_type": "code",
      "source": "import math\n\ndef calculate_portfolio_stddev(returns):\n    try:\n        mean_return = sum(returns) / len(returns)\n        deviations = [(r - mean_return) ** 2 for r in returns]\n        variance = sum(deviations) / len(deviations)\n        return math.sqrt(variance)\n    except ZeroDivisionError:\n        print(\"Error: empty list of returns\")\n        return None\n\nportfolio_returns = [0.05, -0.02, 0.03, 0.01]\nportfolio_stddev = calculate_portfolio_stddev(portfolio_returns)\nif portfolio_stddev is not None:\n    print(f\"Portfolio standard deviation: {portfolio_stddev:.2%}\")",
      "metadata": {
        "trusted": true
      },
      "execution_count": 3,
      "outputs": [
        {
          "name": "stdout",
          "text": "Portfolio standard deviation: 2.59%\n",
          "output_type": "stream"
        }
      ]
    }
  ]
}